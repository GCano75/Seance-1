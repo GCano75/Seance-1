{
 "cells": [
  {
   "cell_type": "markdown",
   "metadata": {},
   "source": [
    "# 31.2 Plus grand commun diviseur"
   ]
  },
  {
   "cell_type": "markdown",
   "metadata": {},
   "source": [
    "Les nombres a at b doivent être des entiers naturels. L'algorithme renvoie d=pgcd(a,b) et des entiers x et y tels que d=xa+yb."
   ]
  },
  {
   "cell_type": "markdown",
   "metadata": {},
   "source": [
    "# Algorithme d'Euclide étendu "
   ]
  },
  {
   "cell_type": "code",
   "execution_count": 1,
   "metadata": {
    "collapsed": false,
    "scrolled": true
   },
   "outputs": [],
   "source": [
    "def Ext(a,b):\n",
    "    if b==0:\n",
    "        return(a,1,0)\n",
    "    else:\n",
    "        (D,X,Y)=Ext(b,a%b)\n",
    "        Q=a//b\n",
    "        return((D,Y,X-Y*Q))"
   ]
  },
  {
   "cell_type": "code",
   "execution_count": 2,
   "metadata": {
    "collapsed": false,
    "scrolled": true
   },
   "outputs": [
    {
     "data": {
      "text/plain": [
       "(2, 1, -1)"
      ]
     },
     "execution_count": 2,
     "metadata": {},
     "output_type": "execute_result"
    }
   ],
   "source": [
    ">>> Ext(10,8)"
   ]
  },
  {
   "cell_type": "markdown",
   "metadata": {},
   "source": [
    "# La suite de Fibonnaci"
   ]
  },
  {
   "cell_type": "markdown",
   "metadata": {},
   "source": [
    "La fonction suivante calcule le nombre de Fibonnaci de rang k."
   ]
  },
  {
   "cell_type": "code",
   "execution_count": 3,
   "metadata": {
    "collapsed": false,
    "scrolled": true
   },
   "outputs": [],
   "source": [
    "def Fib(k):\n",
    "    if k==0:\n",
    "        return(0)\n",
    "    elif k==1:\n",
    "        return(1)\n",
    "    else:\n",
    "        return(Fib(k-2)+Fib(k-1))"
   ]
  },
  {
   "cell_type": "code",
   "execution_count": 4,
   "metadata": {
    "collapsed": false,
    "scrolled": true
   },
   "outputs": [
    {
     "data": {
      "text/plain": [
       "55"
      ]
     },
     "execution_count": 4,
     "metadata": {},
     "output_type": "execute_result"
    }
   ],
   "source": [
    ">>> Fib(10)"
   ]
  },
  {
   "cell_type": "markdown",
   "metadata": {},
   "source": [
    "# Exercices"
   ]
  },
  {
   "cell_type": "markdown",
   "metadata": {},
   "source": [
    "Exercice 31.2-6\n",
    "\n",
    "\n",
    "Que fait l'algorithme d'Euclide étendu lorsqu'on l'applique à $\\left(F_{k+1},F_{k}\\right)$?"
   ]
  },
  {
   "cell_type": "code",
   "execution_count": 5,
   "metadata": {
    "collapsed": false,
    "scrolled": true
   },
   "outputs": [],
   "source": [
    "def L(n):\n",
    "    for k in range(0,n+1):\n",
    "        print(Ext(Fib(k+1),Fib(k)))   "
   ]
  },
  {
   "cell_type": "code",
   "execution_count": 6,
   "metadata": {
    "collapsed": false,
    "scrolled": true
   },
   "outputs": [
    {
     "name": "stdout",
     "output_type": "stream",
     "text": [
      "(1, 1, 0)\n",
      "(1, 0, 1)\n",
      "(1, 0, 1)\n",
      "(1, 1, -1)\n",
      "(1, -1, 2)\n",
      "(1, 2, -3)\n",
      "(1, -3, 5)\n",
      "(1, 5, -8)\n",
      "(1, -8, 13)\n",
      "(1, 13, -21)\n",
      "(1, -21, 34)\n"
     ]
    }
   ],
   "source": [
    ">>> L(10)"
   ]
  },
  {
   "cell_type": "code",
   "execution_count": 7,
   "metadata": {
    "collapsed": false,
    "scrolled": true
   },
   "outputs": [],
   "source": [
    "def T(n):\n",
    "    for k in range(1,n+1):\n",
    "        print(Fib(k)*Fib(k)-Fib(k-1)*Fib(k+1))"
   ]
  },
  {
   "cell_type": "code",
   "execution_count": 8,
   "metadata": {
    "collapsed": false,
    "scrolled": true
   },
   "outputs": [
    {
     "name": "stdout",
     "output_type": "stream",
     "text": [
      "1\n",
      "-1\n",
      "1\n",
      "-1\n",
      "1\n",
      "-1\n",
      "1\n",
      "-1\n",
      "1\n",
      "-1\n"
     ]
    }
   ],
   "source": [
    ">>> T(10)"
   ]
  }
 ],
 "metadata": {
  "kernelspec": {
   "display_name": "Python 3",
   "language": "python",
   "name": "python3"
  },
  "language_info": {
   "codemirror_mode": {
    "name": "ipython",
    "version": 3
   },
   "file_extension": ".py",
   "mimetype": "text/x-python",
   "name": "python",
   "nbconvert_exporter": "python",
   "pygments_lexer": "ipython3",
   "version": "3.5.2"
  }
 },
 "nbformat": 4,
 "nbformat_minor": 1
}
